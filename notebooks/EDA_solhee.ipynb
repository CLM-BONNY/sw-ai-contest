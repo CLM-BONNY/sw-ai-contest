{
  "cells": [
    {
      "cell_type": "markdown",
      "metadata": {
        "id": "4g75NKUM2AbN"
      },
      "source": []
    },
    {
      "cell_type": "code",
      "execution_count": null,
      "metadata": {
        "id": "HySLjkGizfbx"
      },
      "outputs": [],
      "source": [
        "import pandas as pd\n",
        "\n",
        "train = pd.read_csv('../data/raq/train.csv')"
      ]
    },
    {
      "cell_type": "markdown",
      "metadata": {
        "id": "oQmvcOv6BbaS"
      },
      "source": [
        "# 1. 데이터 기본 정보"
      ]
    },
    {
      "cell_type": "code",
      "execution_count": null,
      "metadata": {
        "colab": {
          "base_uri": "https://localhost:8080/"
        },
        "id": "xyWmIDGVzpoJ",
        "outputId": "21cc01d9-9a99-4227-85e3-73eaef60cc17"
      },
      "outputs": [
        {
          "name": "stdout",
          "output_type": "stream",
          "text": [
            "🔹 데이터 크기: (97172, 3)\n",
            "\n",
            "🔹 컬럼명: ['title', 'full_text', 'generated']\n",
            "\n",
            "🔹 라벨 분포:\n",
            " generated\n",
            "0    89177\n",
            "1     7995\n",
            "Name: count, dtype: int64\n",
            "\n",
            "🔹 결측치:\n",
            " title        0\n",
            "full_text    0\n",
            "generated    0\n",
            "dtype: int64\n"
          ]
        }
      ],
      "source": [
        "import matplotlib.pyplot as plt\n",
        "import seaborn as sns\n",
        "import re\n",
        "from collections import Counter\n",
        "\n",
        "\n",
        "# 기본 정보\n",
        "print(\"🔹 데이터 크기:\", train.shape)\n",
        "print(\"\\n🔹 컬럼명:\", train.columns.tolist())\n",
        "print(\"\\n🔹 라벨 분포:\\n\", train['generated'].value_counts())\n",
        "print(\"\\n🔹 결측치:\\n\", train.isnull().sum())"
      ]
    },
    {
      "cell_type": "markdown",
      "metadata": {
        "id": "jXml4dL80QCr"
      },
      "source": [
        "# 2. 문장 수 분석\n",
        "- 각 full_text (문서)의 문장을 ., !, ? 기준으로 나눔\n",
        "- x축 : 문장 개수\n",
        "- y축 : 문서 개수"
      ]
    },
    {
      "cell_type": "code",
      "execution_count": null,
      "metadata": {
        "colab": {
          "base_uri": "https://localhost:8080/",
          "height": 410
        },
        "id": "mrCZBiyz0K2b",
        "outputId": "b8170605-e3b6-4452-808c-3002cfa02c41"
      },
      "outputs": [
        {
          "data": {
            "image/png": "[encoded data removed]",
            "text/plain": [
              "<Figure size 800x400 with 1 Axes>"
            ]
          },
          "metadata": {},
          "output_type": "display_data"
        }
      ],
      "source": [
        "sentence_split = re.compile(r'[.!?]\\s*')\n",
        "train['sent_cnt'] = train['full_text'].astype(str).apply(lambda x: len(sentence_split.split(x)))\n",
        "\n",
        "plt.figure(figsize=(8,4))\n",
        "sns.histplot(train['sent_cnt'], bins=50, kde=True)\n",
        "plt.title(\"Sentence Count Distribution\")\n",
        "plt.show()"
      ]
    },
    {
      "cell_type": "markdown",
      "metadata": {
        "id": "IOzUvTtgBur_"
      },
      "source": [
        "# 3. 한자, 영어 수"
      ]
    },
    {
      "cell_type": "code",
      "execution_count": null,
      "metadata": {
        "colab": {
          "base_uri": "https://localhost:8080/"
        },
        "id": "up1uBpEO04CI",
        "outputId": "def28d8c-92ce-497c-f6ee-2fb6dc76fa58"
      },
      "outputs": [
        {
          "name": "stdout",
          "output_type": "stream",
          "text": [
            "🔹 Hanja presence by label\n",
            "has_hanja  False  True \n",
            "generated              \n",
            "0          53355  35822\n",
            "1           5452   2543\n",
            "\n",
            "🔹 English presence by label\n",
            "has_en     False  True \n",
            "generated              \n",
            "0           4262  84915\n",
            "1            438   7557\n"
          ]
        }
      ],
      "source": [
        "import re\n",
        "\n",
        "# 한자 포함 여부\n",
        "train[\"has_hanja\"] = train[\"full_text\"].apply(lambda x: bool(re.search(r\"[一-龥]\", str(x))))\n",
        "\n",
        "# 영문+숫자 포함 여부\n",
        "train[\"has_en\"] = train[\"full_text\"].apply(lambda x: bool(re.search(r\"[a-zA-Z0]\", str(x))))\n",
        "\n",
        "# 라벨별 한자 포함 빈도수\n",
        "print(\"🔹 Hanja presence by label\")\n",
        "print(train.groupby('generated')[\"has_hanja\"].value_counts().unstack(fill_value=0))\n",
        "\n",
        "# 라벨별 영문 포함 빈도수\n",
        "print(\"\\n🔹 English presence by label\")\n",
        "print(train.groupby('generated')[\"has_en\"].value_counts().unstack(fill_value=0))"
      ]
    },
    {
      "cell_type": "markdown",
      "metadata": {
        "id": "2WGr5JyBCHmq"
      },
      "source": [
        "# 4. 괄호 수"
      ]
    },
    {
      "cell_type": "code",
      "execution_count": null,
      "metadata": {
        "colab": {
          "base_uri": "https://localhost:8080/"
        },
        "id": "XeVeMoaA8U5U",
        "outputId": "9be175a0-4bdf-497d-fdd6-734b3ca361e7"
      },
      "outputs": [
        {
          "name": "stdout",
          "output_type": "stream",
          "text": [
            "🔹 라벨별 괄호 포함 문서 수 및 비율\n",
            "   generated  with_paren_count  total  proportion\n",
            "0          0             80794  89177        90.6\n",
            "1          1              6548   7995        81.9\n"
          ]
        }
      ],
      "source": [
        "import pandas as pd\n",
        "import matplotlib.pyplot as plt\n",
        "import seaborn as sns\n",
        "\n",
        "# ✅ 괄호 개수 컬럼 (이미 있다면 생략 가능)\n",
        "def count_parentheses(text):\n",
        "    return text.count('(') + text.count(')')\n",
        "\n",
        "train['paren_count'] = train['full_text'].astype(str).apply(count_parentheses)\n",
        "\n",
        "# ✅ 괄호가 있는 문서만 필터링\n",
        "train_paren = train[train['paren_count'] > 0].copy()\n",
        "\n",
        "# ✅ 출력: 라벨별 괄호 포함 문서 수 / 비율\n",
        "summary = (\n",
        "    train.groupby('generated')['paren_count'].apply(lambda x: (x > 0).sum())\n",
        "    .to_frame('with_paren_count')\n",
        "    .reset_index()\n",
        ")\n",
        "summary['total'] = train.groupby('generated').size().values\n",
        "summary['proportion'] = (summary['with_paren_count'] / summary['total'] * 100).round(2)\n",
        "\n",
        "print(\"🔹 라벨별 괄호 포함 문서 수 및 비율\")\n",
        "print(summary)\n",
        "\n"
      ]
    },
    {
      "cell_type": "markdown",
      "metadata": {
        "id": "wrCatu2vCLdA"
      },
      "source": [
        "# 5. 라벨 별로 문장당 괄호"
      ]
    },
    {
      "cell_type": "markdown",
      "metadata": {
        "id": "7khFFy62A4HJ"
      },
      "source": []
    },
    {
      "cell_type": "code",
      "execution_count": null,
      "metadata": {
        "colab": {
          "base_uri": "https://localhost:8080/"
        },
        "id": "zZ4VCd48_kj9",
        "outputId": "f799d2e8-16d2-4902-fe67-0e7a8a557a87"
      },
      "outputs": [
        {
          "name": "stdout",
          "output_type": "stream",
          "text": [
            "🔹 라벨별 문장당 괄호 개수 통계\n",
            "             count  mean   std  min   25%   50%   75%     max\n",
            "generated                                                    \n",
            "0          89177.0  0.58  1.43  0.0  0.14  0.31  0.63  233.00\n",
            "1           7995.0  0.31  0.50  0.0  0.07  0.17  0.37   12.17\n"
          ]
        }
      ],
      "source": [
        "import pandas as pd\n",
        "import matplotlib.pyplot as plt\n",
        "import seaborn as sns\n",
        "import re\n",
        "\n",
        "# ✅ 문장 나누기: . ! ? 뒤 공백 기준\n",
        "sentence_split = re.compile(r'[.!?]\\s*')\n",
        "\n",
        "def split_sentences(text):\n",
        "    return sentence_split.split(text)\n",
        "\n",
        "# ✅ 문장당 괄호 개수 계산 함수\n",
        "def paren_per_sentence(text):\n",
        "    sentences = split_sentences(text)\n",
        "    if len(sentences) == 0:\n",
        "        return 0\n",
        "    total_paren = sum(s.count('(') + s.count(')') for s in sentences)\n",
        "    return total_paren / len(sentences)\n",
        "\n",
        "# ✅ 문장당 괄호 개수 컬럼 생성\n",
        "train['paren_per_sent'] = train['full_text'].astype(str).apply(paren_per_sentence)\n",
        "\n",
        "# ✅ 라벨별 통계 출력\n",
        "summary = train.groupby('generated')['paren_per_sent'].describe().round(2)\n",
        "print(\"🔹 라벨별 문장당 괄호 개수 통계\")\n",
        "print(summary)\n"
      ]
    },
    {
      "cell_type": "code",
      "execution_count": null,
      "metadata": {
        "colab": {
          "base_uri": "https://localhost:8080/",
          "height": 803
        },
        "id": "aYAeKrKHE8qn",
        "outputId": "f4b7a18f-5fdb-499d-a09d-879781d6c787"
      },
      "outputs": [
        {
          "data": {
            "image/png": "[encoded data removed]",
            "text/plain": [
              "<Figure size 800x400 with 1 Axes>"
            ]
          },
          "metadata": {},
          "output_type": "display_data"
        },
        {
          "data": {
            "image/png": "[encoded data removed]",
            "text/plain": [
              "<Figure size 800x400 with 1 Axes>"
            ]
          },
          "metadata": {},
          "output_type": "display_data"
        }
      ],
      "source": [
        "# ✅ boxplot 시각화\n",
        "plt.figure(figsize=(8,4))\n",
        "sns.boxplot(x='generated', y='paren_per_sent', data=train)\n",
        "plt.title('Parentheses per Sentence by Label')\n",
        "plt.xlabel('Label (0=Human, 1=AI)')\n",
        "plt.ylabel('Average Parentheses per Sentence')\n",
        "plt.show()\n",
        "\n",
        "\n",
        "plt.figure(figsize=(8,4))\n",
        "sns.kdeplot(\n",
        "    data=train,\n",
        "    x='paren_per_sent',\n",
        "    hue='generated',\n",
        "    common_norm=False\n",
        ")\n",
        "plt.title('Parentheses per Sentence Distribution by Label')\n",
        "plt.xlabel('Average Parentheses per Sentence')\n",
        "plt.ylabel('Density')\n",
        "plt.xlim(0, 10)\n",
        "plt.show()"
      ]
    },
    {
      "cell_type": "markdown",
      "metadata": {
        "id": "aCS2z467CQZX"
      },
      "source": [
        "*   사람 글은 문장당 괄호 개수가 평균 0.58개로 AI보다 많음\n",
        "*   사람 글의 표준편차는 1.43으로, 괄호 사용의 변동이 큼\n",
        "* AI는 괄호 수가 일관적인 편\n",
        "\n"
      ]
    },
    {
      "cell_type": "code",
      "execution_count": null,
      "metadata": {
        "id": "jw-d2mn9G_kL"
      },
      "outputs": [],
      "source": [
        "# !apt-get install -y mecab libmecab-dev mecab-ipadic-utf8 > /dev/null\n",
        "# !pip install mecab-python3"
      ]
    },
    {
      "cell_type": "code",
      "execution_count": null,
      "metadata": {
        "colab": {
          "base_uri": "https://localhost:8080/"
        },
        "collapsed": true,
        "id": "Y2NIsrEnJlWd",
        "outputId": "9563b641-14ac-464f-954d-5eab64f30db8"
      },
      "outputs": [],
      "source": [
        "!pip install Korpora\n",
        "!git clone https://github.com/SOMJANG/Mecab-ko-for-Google-Colab.git\n",
        "!ls\n",
        "%cd Mecab-ko-for-Google-Colab\n",
        "!bash install_mecab-ko_on_colab_light_220429.sh"
      ]
    },
    {
      "cell_type": "markdown",
      "metadata": {
        "id": "_uzueYA8sKiS"
      },
      "source": [
        "# 6. 첫문장에 주어 유무"
      ]
    },
    {
      "cell_type": "code",
      "execution_count": null,
      "metadata": {
        "colab": {
          "base_uri": "https://localhost:8080/",
          "height": 529,
          "referenced_widgets": [
            "ffbba441a21a450dbc169ae53893ec78",
            "bda8c595c1ca4ba4b0006ed8926bde0c",
            "df03a62197c74812b32ea5a9c8286739",
            "11c6ae53edfd4aea8c820555ff423007",
            "3c7a80fa77864e24919de6bc55f110b6",
            "e8178fa1a8364ec88336b6532cbb3032",
            "41396c17991e422f8614e7fc5640987b",
            "c26d5118560c4ed3bc8bf433905adafd",
            "830a0fb4d3b941788b2db93d45eba1eb",
            "9f4ccd79da194c7d9da6557c37adbd60",
            "d2c8bb69d0384897afcccb46dfce9ffd"
          ]
        },
        "id": "H4NwK8-k_8TZ",
        "outputId": "60ebf06e-a8ad-4a5f-d55b-4d0798a763eb"
      },
      "outputs": [
        {
          "data": {
            "application/vnd.jupyter.widget-view+json": {
              "model_id": "ffbba441a21a450dbc169ae53893ec78",
              "version_major": 2,
              "version_minor": 0
            },
            "text/plain": [
              "  0%|          | 0/97172 [00:00<?, ?it/s]"
            ]
          },
          "metadata": {},
          "output_type": "display_data"
        },
        {
          "name": "stdout",
          "output_type": "stream",
          "text": [
            "\n",
            "🔹 라벨별 첫 문장 주어 없음 비율 (%)\n",
            "   generated  first_subject_missing\n",
            "0          0              21.430414\n",
            "1          1              20.687930\n"
          ]
        },
        {
          "data": {
            "image/png": "[encoded data removed]",
            "text/plain": [
              "<Figure size 600x400 with 1 Axes>"
            ]
          },
          "metadata": {},
          "output_type": "display_data"
        }
      ],
      "source": [
        "from konlpy.tag import Mecab\n",
        "import re\n",
        "from tqdm.notebook import tqdm\n",
        "import seaborn as sns\n",
        "import matplotlib.pyplot as plt\n",
        "\n",
        "# Mecab 초기화\n",
        "mecab = Mecab()\n",
        "\n",
        "# 문장 분리 정규식\n",
        "sentence_split = re.compile(r'[.!?]\\s*')\n",
        "\n",
        "# 주어 존재 여부 판단 함수\n",
        "def check_subject_presence(sentence):\n",
        "    tokens = mecab.pos(sentence)\n",
        "\n",
        "    noun_block = []\n",
        "    for word, pos in tokens:\n",
        "        if pos in ['NNG', 'NNP', 'NP']:\n",
        "            noun_block.append(word)\n",
        "        elif pos in ['SSO', 'SSC', 'SN', 'SY', 'NNBC', 'SC', 'SL']:\n",
        "            continue  # 괄호, 숫자, 쉼표, 한자 무시\n",
        "        elif pos in ['JKS', 'JX'] and noun_block:\n",
        "            # 주어 후보 출력 (필요하면 주석 해제)\n",
        "            # print(f\"주어 후보: {' '.join(noun_block)} + {word}({pos})\")\n",
        "            return False  # 주어 있음\n",
        "        else:\n",
        "            noun_block = []  # 흐름 깨지면 초기화\n",
        "\n",
        "    return True  # 주어 못 찾음\n",
        "\n",
        "# DataFrame에 적용\n",
        "def apply_first_sentence_subject_check(df, text_col='full_text'):\n",
        "    tqdm.pandas()\n",
        "\n",
        "    def get_first_sentence(text):\n",
        "        sentences = sentence_split.split(str(text))\n",
        "        if sentences and sentences[0].strip():\n",
        "            return sentences[0].strip()\n",
        "        return \"\"\n",
        "\n",
        "    df['first_sentence'] = df[text_col].apply(get_first_sentence)\n",
        "    df['first_subject_missing'] = df['first_sentence'].progress_apply(check_subject_presence)\n",
        "    return df\n",
        "\n",
        "# 시각화 및 통계\n",
        "def plot_subject_missing_stat(df):\n",
        "    result = df.groupby('generated')['first_subject_missing'].mean().reset_index()\n",
        "    result['first_subject_missing'] = result['first_subject_missing'] * 100\n",
        "\n",
        "    print(\"\\n🔹 라벨별 첫 문장 주어 없음 비율 (%)\")\n",
        "    print(result)\n",
        "\n",
        "    plt.figure(figsize=(6,4))\n",
        "    sns.barplot(data=result, x='generated', y='first_subject_missing')\n",
        "    plt.title('First Sentence Subject-Missing Proportion by Label')\n",
        "    plt.xlabel('Label (0=Human, 1=AI)')\n",
        "    plt.ylabel('Proportion (%)')\n",
        "    plt.ylim(0, 100)\n",
        "    plt.show()\n",
        "\n",
        "# === 사용 방법 ===\n",
        "train = apply_first_sentence_subject_check(train)\n",
        "plot_subject_missing_stat(train)"
      ]
    },
    {
      "cell_type": "markdown",
      "metadata": {
        "id": "9pb4Ehh7sSUN"
      },
      "source": [
        "의미가 없었다.. 인간이 쓴것도 주어없는거 있더라\n",
        "\n",
        "- 교위, 전수대부(한나라 식으로는 남양태수)를 역임했으며, 녹림군의 장군 유인과 싸워 패사했다. 전한 평제\n",
        "시기, 흉노가 전한 서역도호부에 원한을 품고 투항한 거사후왕과 거호래왕을 돌려보내도록 명하는 사절단에서 중랑장 한륭(韓隆)·왕창(王昌) 다음 부교위로 참여했다. 이후 전한과 흉노가 계속 교섭하여 중국인·오손인·중국의 인수를 받은 서역인·오환인이 흉노에 투항하면"
      ]
    },
    {
      "cell_type": "markdown",
      "metadata": {
        "id": "Fz5icDjNuTP_"
      },
      "source": [
        "# 7. 쉼표 개수"
      ]
    },
    {
      "cell_type": "code",
      "execution_count": null,
      "metadata": {
        "colab": {
          "base_uri": "https://localhost:8080/",
          "height": 497
        },
        "id": "kjXfi9e0tniJ",
        "outputId": "684bf05e-73fc-4876-ab0e-b055bf2274f0"
      },
      "outputs": [
        {
          "name": "stdout",
          "output_type": "stream",
          "text": [
            "🔹 라벨별 문장당 쉼표 개수 통계\n",
            "             count  mean   std  min   25%   50%   75%     max\n",
            "generated                                                    \n",
            "0          89177.0  0.72  1.11  0.0  0.42  0.63  0.89  255.50\n",
            "1           7995.0  0.41  0.35  0.0  0.20  0.34  0.53    9.67\n"
          ]
        },
        {
          "data": {
            "image/png": "[encoded data removed]",
            "text/plain": [
              "<Figure size 800x400 with 1 Axes>"
            ]
          },
          "metadata": {},
          "output_type": "display_data"
        }
      ],
      "source": [
        "import pandas as pd\n",
        "import matplotlib.pyplot as plt\n",
        "import seaborn as sns\n",
        "import re\n",
        "\n",
        "# 문장 나누기: . ! ? 뒤 공백 기준\n",
        "sentence_split = re.compile(r'[.!?]\\s*')\n",
        "\n",
        "def split_sentences(text):\n",
        "    return sentence_split.split(text)\n",
        "\n",
        "# 문장당 쉼표 개수 계산 함수\n",
        "def comma_per_sentence(text):\n",
        "    sentences = split_sentences(text)\n",
        "    if len(sentences) == 0:\n",
        "        return 0\n",
        "    total_comma = sum(s.count(',') for s in sentences)\n",
        "    return total_comma / len(sentences)\n",
        "\n",
        "# 문장당 쉼표 개수 컬럼 생성\n",
        "train['comma_per_sent'] = train['full_text'].astype(str).apply(comma_per_sentence)\n",
        "\n",
        "# 라벨별 통계 출력\n",
        "summary = train.groupby('generated')['comma_per_sent'].describe().round(2)\n",
        "print(\"🔹 라벨별 문장당 쉼표 개수 통계\")\n",
        "print(summary)\n",
        "\n",
        "# 시각화 (선택)\n",
        "plt.figure(figsize=(8,4))\n",
        "sns.boxplot(data=train, x='generated', y='comma_per_sent')\n",
        "plt.title('Comma per Sentence by Label')\n",
        "plt.xlabel('Label (0=Human, 1=AI)')\n",
        "plt.ylabel('Average Comma per Sentence')\n",
        "plt.show()"
      ]
    },
    {
      "cell_type": "markdown",
      "metadata": {
        "id": "DseiGx6AvEzC"
      },
      "source": [
        "# 8. (, 가 있는거"
      ]
    },
    {
      "cell_type": "code",
      "execution_count": null,
      "metadata": {
        "colab": {
          "base_uri": "https://localhost:8080/",
          "height": 497
        },
        "id": "BjTBa4GsuX9r",
        "outputId": "e9d4ffda-cbcd-4285-ac01-9007f3fb8d04"
      },
      "outputs": [
        {
          "name": "stdout",
          "output_type": "stream",
          "text": [
            "🔹 라벨별 ( 쉼표 시작 패턴 개수 통계\n",
            "             count  mean   std  min  25%  50%  75%   max\n",
            "generated                                               \n",
            "0          89177.0  0.15  0.46  0.0  0.0  0.0  0.0  31.0\n",
            "1           7995.0  0.08  0.30  0.0  0.0  0.0  0.0   4.0\n"
          ]
        },
        {
          "data": {
            "image/png": "[encoded data removed]",
            "text/plain": [
              "<Figure size 800x400 with 1 Axes>"
            ]
          },
          "metadata": {},
          "output_type": "display_data"
        }
      ],
      "source": [
        "import re\n",
        "\n",
        "# 괄호 열고 쉼표로 시작하는 패턴 탐지\n",
        "def paren_comma_start_count(text):\n",
        "    # \\(, 또는 ( , 패턴 탐지\n",
        "    matches = re.findall(r'\\(\\s*,', text)\n",
        "    return len(matches)\n",
        "\n",
        "# 컬럼 생성\n",
        "train['paren_comma_start'] = train['full_text'].astype(str).apply(paren_comma_start_count)\n",
        "\n",
        "# 라벨별 통계 출력\n",
        "summary = train.groupby('generated')['paren_comma_start'].describe().round(2)\n",
        "print(\"🔹 라벨별 ( 쉼표 시작 패턴 개수 통계\")\n",
        "print(summary)\n",
        "\n",
        "# 시각화\n",
        "import matplotlib.pyplot as plt\n",
        "import seaborn as sns\n",
        "\n",
        "plt.figure(figsize=(8,4))\n",
        "sns.boxplot(data=train, x='generated', y='paren_comma_start')\n",
        "plt.title('Count of \"(,\" Pattern by Label')\n",
        "plt.xlabel('Label (0=Human, 1=AI)')\n",
        "plt.ylabel('Count of \"(,\" Patterns')\n",
        "plt.show()"
      ]
    },
    {
      "cell_type": "code",
      "execution_count": null,
      "metadata": {
        "colab": {
          "base_uri": "https://localhost:8080/"
        },
        "id": "GOWpdVV0u2m8",
        "outputId": "0f29f6c6-927e-489e-bb00-e27eb764c976"
      },
      "outputs": [
        {
          "name": "stdout",
          "output_type": "stream",
          "text": [
            "🔹 '(,' 패턴이 포함된 문서 수: 12635\n",
            "🔹 해당 인덱스 (상위 10개): [3, 6, 39, 44, 45, 46, 49, 68, 83, 89]\n"
          ]
        }
      ],
      "source": [
        "import re\n",
        "\n",
        "# ( 쉼표로 시작하는 괄호 패턴 탐지 함수\n",
        "def paren_comma_start_count(text):\n",
        "    return len(re.findall(r'\\(\\s*,', text))\n",
        "\n",
        "# 컬럼 생성\n",
        "train['paren_comma_start'] = train['full_text'].astype(str).apply(paren_comma_start_count)\n",
        "\n",
        "# ( 쉼표 시작 패턴이 1개 이상 있는 행의 인덱스 추출\n",
        "pattern_indices = train[train['paren_comma_start'] > 0].index.tolist()\n",
        "\n",
        "# 결과 출력\n",
        "print(f\"🔹 '(,' 패턴이 포함된 문서 수: {len(pattern_indices)}\")\n",
        "print(f\"🔹 해당 인덱스 (상위 10개): {pattern_indices[:10]}\")"
      ]
    },
    {
      "cell_type": "code",
      "execution_count": null,
      "metadata": {
        "colab": {
          "base_uri": "https://localhost:8080/"
        },
        "id": "WLSNoOt1pJ2h",
        "outputId": "705937fc-80bb-4909-a2b0-08866be9f499"
      },
      "outputs": [
        {
          "name": "stdout",
          "output_type": "stream",
          "text": [
            "🔹 입력 문장: 천문학에서 청색거성(靑色巨星, )은 광도 분류에서 III형(거성) 또는 II형(밝은 거성)인 뜨거운 별이다.\n",
            "🔹 Mecab 토큰 분석 결과:\n",
            "  (천문학, NNG)\n",
            "  (에서, JKB)\n",
            "  (청색, NNG)\n",
            "  (거성, NNG)\n",
            "  ((, SSO)\n",
            "  (靑色, NNG)\n",
            "  (巨星, NNG)\n",
            "  (,, SC)\n",
            "  (), SSC)\n",
            "  (은, JX)\n",
            "  (광도, NNG)\n",
            "  (분류, NNG)\n",
            "  (에서, JKB)\n",
            "  (III, SL)\n",
            "  (형, XSN)\n",
            "  ((, SSO)\n",
            "  (거성, NNG)\n",
            "  (), SSC)\n",
            "  (또는, MAJ)\n",
            "  (II, SL)\n",
            "  (형, XSN)\n",
            "  ((, SSO)\n",
            "  (밝, VA)\n",
            "  (은, ETM)\n",
            "  (거성, NNG)\n",
            "  (), SSC)\n",
            "  (인, VCP+ETM)\n",
            "  (뜨거운, VA+ETM)\n",
            "  (별, NNG)\n",
            "  (이, VCP)\n",
            "  (다, EF)\n",
            "  (., SF)\n"
          ]
        }
      ],
      "source": [
        "from konlpy.tag import Mecab\n",
        "\n",
        "# Mecab 초기화\n",
        "mecab = Mecab()\n",
        "\n",
        "def print_mecab_tokens(sentence):\n",
        "    tokens = mecab.pos(sentence)\n",
        "    print(f\"🔹 입력 문장: {sentence}\")\n",
        "    print(\"🔹 Mecab 토큰 분석 결과:\")\n",
        "    for word, pos in tokens:\n",
        "        print(f\"  ({word}, {pos})\")\n",
        "\n",
        "# ✅ 테스트 문장\n",
        "text = \"천문학에서 청색거성(靑色巨星, )은 광도 분류에서 III형(거성) 또는 II형(밝은 거성)인 뜨거운 별이다.\"\n",
        "print_mecab_tokens(text)"
      ]
    },
    {
      "cell_type": "markdown",
      "metadata": {
        "id": "edyR60-jpito"
      },
      "source": []
    },
    {
      "cell_type": "code",
      "execution_count": null,
      "metadata": {
        "id": "iz3crBOrMpnO"
      },
      "outputs": [],
      "source": [
        "from konlpy.tag import Mecab\n",
        "import pandas as pd\n",
        "import re\n",
        "from tqdm.notebook import tqdm\n",
        "import seaborn as sns\n",
        "import matplotlib.pyplot as plt\n",
        "\n",
        "# Mecab 초기화\n",
        "mecab = Mecab()\n",
        "\n",
        "# 문장 분리 정규식\n",
        "sentence_split = re.compile(r'[.!?]\\s*')\n",
        "\n",
        "def check_subject_presence(sentence):\n",
        "    tokens = mecab.pos(sentence)\n",
        "\n",
        "    noun_block = []\n",
        "    for word, pos in tokens:\n",
        "        if pos in ['NNG', 'NNP', 'NP']:\n",
        "            noun_block.append(word)\n",
        "        elif pos in ['SSO', 'SSC', 'SN', 'SY', 'NNBC', 'SC', 'SL']:\n",
        "            continue  # 괄호, 숫자, 쉼표, 한자 무시\n",
        "        elif pos in ['JKS', 'JX'] and noun_block:\n",
        "            print(f\"주어 후보: {' '.join(noun_block)} + {word}({pos})\")\n",
        "            return False  # 주어 있음\n",
        "        else:\n",
        "            noun_block = []  # 흐름 깨지면 초기화\n",
        "\n",
        "    return True  # 주어 못 찾음"
      ]
    },
    {
      "cell_type": "code",
      "execution_count": null,
      "metadata": {
        "colab": {
          "base_uri": "https://localhost:8080/"
        },
        "id": "cdtow8myLw5d",
        "outputId": "a013a1f6-348e-47ad-e186-f66a33b9f759"
      },
      "outputs": [
        {
          "name": "stdout",
          "output_type": "stream",
          "text": [
            "주어가 없습니다\n"
          ]
        }
      ],
      "source": [
        "text = \"부교위, 전수대부(한나라 식으로는 남양태수)를 역임했으며, 녹림군의 장군 유인과 싸워 패사했다.\"\n",
        "result = check_subject_presence(text)\n",
        "print(result)"
      ]
    }
  ],
  "metadata": {
    "colab": {
      "provenance": []
    },
    "kernelspec": {
      "display_name": "Python 3",
      "name": "python3"
    },
    "language_info": {
      "name": "python"
    },
    "widgets": {
      "application/vnd.jupyter.widget-state+json": {
        "11c6ae53edfd4aea8c820555ff423007": {
          "model_module": "@jupyter-widgets/controls",
          "model_module_version": "1.5.0",
          "model_name": "HTMLModel",
          "state": {
            "_dom_classes": [],
            "_model_module": "@jupyter-widgets/controls",
            "_model_module_version": "1.5.0",
            "_model_name": "HTMLModel",
            "_view_count": null,
            "_view_module": "@jupyter-widgets/controls",
            "_view_module_version": "1.5.0",
            "_view_name": "HTMLView",
            "description": "",
            "description_tooltip": null,
            "layout": "IPY_MODEL_9f4ccd79da194c7d9da6557c37adbd60",
            "placeholder": "​",
            "style": "IPY_MODEL_d2c8bb69d0384897afcccb46dfce9ffd",
            "value": " 97172/97172 [00:12&lt;00:00, 8453.53it/s]"
          }
        },
        "3c7a80fa77864e24919de6bc55f110b6": {
          "model_module": "@jupyter-widgets/base",
          "model_module_version": "1.2.0",
          "model_name": "LayoutModel",
          "state": {
            "_model_module": "@jupyter-widgets/base",
            "_model_module_version": "1.2.0",
            "_model_name": "LayoutModel",
            "_view_count": null,
            "_view_module": "@jupyter-widgets/base",
            "_view_module_version": "1.2.0",
            "_view_name": "LayoutView",
            "align_content": null,
            "align_items": null,
            "align_self": null,
            "border": null,
            "bottom": null,
            "display": null,
            "flex": null,
            "flex_flow": null,
            "grid_area": null,
            "grid_auto_columns": null,
            "grid_auto_flow": null,
            "grid_auto_rows": null,
            "grid_column": null,
            "grid_gap": null,
            "grid_row": null,
            "grid_template_areas": null,
            "grid_template_columns": null,
            "grid_template_rows": null,
            "height": null,
            "justify_content": null,
            "justify_items": null,
            "left": null,
            "margin": null,
            "max_height": null,
            "max_width": null,
            "min_height": null,
            "min_width": null,
            "object_fit": null,
            "object_position": null,
            "order": null,
            "overflow": null,
            "overflow_x": null,
            "overflow_y": null,
            "padding": null,
            "right": null,
            "top": null,
            "visibility": null,
            "width": null
          }
        },
        "41396c17991e422f8614e7fc5640987b": {
          "model_module": "@jupyter-widgets/controls",
          "model_module_version": "1.5.0",
          "model_name": "DescriptionStyleModel",
          "state": {
            "_model_module": "@jupyter-widgets/controls",
            "_model_module_version": "1.5.0",
            "_model_name": "DescriptionStyleModel",
            "_view_count": null,
            "_view_module": "@jupyter-widgets/base",
            "_view_module_version": "1.2.0",
            "_view_name": "StyleView",
            "description_width": ""
          }
        },
        "830a0fb4d3b941788b2db93d45eba1eb": {
          "model_module": "@jupyter-widgets/controls",
          "model_module_version": "1.5.0",
          "model_name": "ProgressStyleModel",
          "state": {
            "_model_module": "@jupyter-widgets/controls",
            "_model_module_version": "1.5.0",
            "_model_name": "ProgressStyleModel",
            "_view_count": null,
            "_view_module": "@jupyter-widgets/base",
            "_view_module_version": "1.2.0",
            "_view_name": "StyleView",
            "bar_color": null,
            "description_width": ""
          }
        },
        "9f4ccd79da194c7d9da6557c37adbd60": {
          "model_module": "@jupyter-widgets/base",
          "model_module_version": "1.2.0",
          "model_name": "LayoutModel",
          "state": {
            "_model_module": "@jupyter-widgets/base",
            "_model_module_version": "1.2.0",
            "_model_name": "LayoutModel",
            "_view_count": null,
            "_view_module": "@jupyter-widgets/base",
            "_view_module_version": "1.2.0",
            "_view_name": "LayoutView",
            "align_content": null,
            "align_items": null,
            "align_self": null,
            "border": null,
            "bottom": null,
            "display": null,
            "flex": null,
            "flex_flow": null,
            "grid_area": null,
            "grid_auto_columns": null,
            "grid_auto_flow": null,
            "grid_auto_rows": null,
            "grid_column": null,
            "grid_gap": null,
            "grid_row": null,
            "grid_template_areas": null,
            "grid_template_columns": null,
            "grid_template_rows": null,
            "height": null,
            "justify_content": null,
            "justify_items": null,
            "left": null,
            "margin": null,
            "max_height": null,
            "max_width": null,
            "min_height": null,
            "min_width": null,
            "object_fit": null,
            "object_position": null,
            "order": null,
            "overflow": null,
            "overflow_x": null,
            "overflow_y": null,
            "padding": null,
            "right": null,
            "top": null,
            "visibility": null,
            "width": null
          }
        },
        "bda8c595c1ca4ba4b0006ed8926bde0c": {
          "model_module": "@jupyter-widgets/controls",
          "model_module_version": "1.5.0",
          "model_name": "HTMLModel",
          "state": {
            "_dom_classes": [],
            "_model_module": "@jupyter-widgets/controls",
            "_model_module_version": "1.5.0",
            "_model_name": "HTMLModel",
            "_view_count": null,
            "_view_module": "@jupyter-widgets/controls",
            "_view_module_version": "1.5.0",
            "_view_name": "HTMLView",
            "description": "",
            "description_tooltip": null,
            "layout": "IPY_MODEL_e8178fa1a8364ec88336b6532cbb3032",
            "placeholder": "​",
            "style": "IPY_MODEL_41396c17991e422f8614e7fc5640987b",
            "value": "100%"
          }
        },
        "c26d5118560c4ed3bc8bf433905adafd": {
          "model_module": "@jupyter-widgets/base",
          "model_module_version": "1.2.0",
          "model_name": "LayoutModel",
          "state": {
            "_model_module": "@jupyter-widgets/base",
            "_model_module_version": "1.2.0",
            "_model_name": "LayoutModel",
            "_view_count": null,
            "_view_module": "@jupyter-widgets/base",
            "_view_module_version": "1.2.0",
            "_view_name": "LayoutView",
            "align_content": null,
            "align_items": null,
            "align_self": null,
            "border": null,
            "bottom": null,
            "display": null,
            "flex": null,
            "flex_flow": null,
            "grid_area": null,
            "grid_auto_columns": null,
            "grid_auto_flow": null,
            "grid_auto_rows": null,
            "grid_column": null,
            "grid_gap": null,
            "grid_row": null,
            "grid_template_areas": null,
            "grid_template_columns": null,
            "grid_template_rows": null,
            "height": null,
            "justify_content": null,
            "justify_items": null,
            "left": null,
            "margin": null,
            "max_height": null,
            "max_width": null,
            "min_height": null,
            "min_width": null,
            "object_fit": null,
            "object_position": null,
            "order": null,
            "overflow": null,
            "overflow_x": null,
            "overflow_y": null,
            "padding": null,
            "right": null,
            "top": null,
            "visibility": null,
            "width": null
          }
        },
        "d2c8bb69d0384897afcccb46dfce9ffd": {
          "model_module": "@jupyter-widgets/controls",
          "model_module_version": "1.5.0",
          "model_name": "DescriptionStyleModel",
          "state": {
            "_model_module": "@jupyter-widgets/controls",
            "_model_module_version": "1.5.0",
            "_model_name": "DescriptionStyleModel",
            "_view_count": null,
            "_view_module": "@jupyter-widgets/base",
            "_view_module_version": "1.2.0",
            "_view_name": "StyleView",
            "description_width": ""
          }
        },
        "df03a62197c74812b32ea5a9c8286739": {
          "model_module": "@jupyter-widgets/controls",
          "model_module_version": "1.5.0",
          "model_name": "FloatProgressModel",
          "state": {
            "_dom_classes": [],
            "_model_module": "@jupyter-widgets/controls",
            "_model_module_version": "1.5.0",
            "_model_name": "FloatProgressModel",
            "_view_count": null,
            "_view_module": "@jupyter-widgets/controls",
            "_view_module_version": "1.5.0",
            "_view_name": "ProgressView",
            "bar_style": "success",
            "description": "",
            "description_tooltip": null,
            "layout": "IPY_MODEL_c26d5118560c4ed3bc8bf433905adafd",
            "max": 97172,
            "min": 0,
            "orientation": "horizontal",
            "style": "IPY_MODEL_830a0fb4d3b941788b2db93d45eba1eb",
            "value": 97172
          }
        },
        "e8178fa1a8364ec88336b6532cbb3032": {
          "model_module": "@jupyter-widgets/base",
          "model_module_version": "1.2.0",
          "model_name": "LayoutModel",
          "state": {
            "_model_module": "@jupyter-widgets/base",
            "_model_module_version": "1.2.0",
            "_model_name": "LayoutModel",
            "_view_count": null,
            "_view_module": "@jupyter-widgets/base",
            "_view_module_version": "1.2.0",
            "_view_name": "LayoutView",
            "align_content": null,
            "align_items": null,
            "align_self": null,
            "border": null,
            "bottom": null,
            "display": null,
            "flex": null,
            "flex_flow": null,
            "grid_area": null,
            "grid_auto_columns": null,
            "grid_auto_flow": null,
            "grid_auto_rows": null,
            "grid_column": null,
            "grid_gap": null,
            "grid_row": null,
            "grid_template_areas": null,
            "grid_template_columns": null,
            "grid_template_rows": null,
            "height": null,
            "justify_content": null,
            "justify_items": null,
            "left": null,
            "margin": null,
            "max_height": null,
            "max_width": null,
            "min_height": null,
            "min_width": null,
            "object_fit": null,
            "object_position": null,
            "order": null,
            "overflow": null,
            "overflow_x": null,
            "overflow_y": null,
            "padding": null,
            "right": null,
            "top": null,
            "visibility": null,
            "width": null
          }
        },
        "ffbba441a21a450dbc169ae53893ec78": {
          "model_module": "@jupyter-widgets/controls",
          "model_module_version": "1.5.0",
          "model_name": "HBoxModel",
          "state": {
            "_dom_classes": [],
            "_model_module": "@jupyter-widgets/controls",
            "_model_module_version": "1.5.0",
            "_model_name": "HBoxModel",
            "_view_count": null,
            "_view_module": "@jupyter-widgets/controls",
            "_view_module_version": "1.5.0",
            "_view_name": "HBoxView",
            "box_style": "",
            "children": [
              "IPY_MODEL_bda8c595c1ca4ba4b0006ed8926bde0c",
              "IPY_MODEL_df03a62197c74812b32ea5a9c8286739",
              "IPY_MODEL_11c6ae53edfd4aea8c820555ff423007"
            ],
            "layout": "IPY_MODEL_3c7a80fa77864e24919de6bc55f110b6"
          }
        }
      }
    }
  },
  "nbformat": 4,
  "nbformat_minor": 0
}
