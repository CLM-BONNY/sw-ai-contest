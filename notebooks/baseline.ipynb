{
 "cells": [
  {
   "cell_type": "markdown",
   "metadata": {},
   "source": [
    "# Import"
   ]
  },
  {
   "cell_type": "code",
   "execution_count": null,
   "metadata": {},
   "outputs": [
    {
     "name": "stdout",
     "output_type": "stream",
     "text": [
      "Requirement already satisfied: pip in /Users/kimmandoo/.pyenv/versions/3.10.12/lib/python3.10/site-packages (25.0.1)\n",
      "Collecting pip\n",
      "  Downloading pip-25.1.1-py3-none-any.whl.metadata (3.6 kB)\n",
      "Downloading pip-25.1.1-py3-none-any.whl (1.8 MB)\n",
      "\u001b[2K   \u001b[90m━━━━━━━━━━━━━━━━━━━━━━━━━━━━━━━━━━━━━━━━\u001b[0m \u001b[32m1.8/1.8 MB\u001b[0m \u001b[31m2.1 MB/s\u001b[0m eta \u001b[36m0:00:00\u001b[0ma \u001b[36m0:00:01\u001b[0m\n",
      "\u001b[?25hInstalling collected packages: pip\n",
      "  Attempting uninstall: pip\n",
      "    Found existing installation: pip 25.0.1\n",
      "    Uninstalling pip-25.0.1:\n",
      "      Successfully uninstalled pip-25.0.1\n",
      "Successfully installed pip-25.1.1\n",
      "Requirement already satisfied: pandas in /Users/kimmandoo/.pyenv/versions/3.10.12/lib/python3.10/site-packages (2.2.3)\n",
      "Requirement already satisfied: scikit-learn in /Users/kimmandoo/.pyenv/versions/3.10.12/lib/python3.10/site-packages (1.7.0)\n",
      "Requirement already satisfied: xgboost in /Users/kimmandoo/.pyenv/versions/3.10.12/lib/python3.10/site-packages (3.0.2)\n",
      "Requirement already satisfied: numpy>=1.22.4 in /Users/kimmandoo/.pyenv/versions/3.10.12/lib/python3.10/site-packages (from pandas) (2.2.4)\n",
      "Requirement already satisfied: python-dateutil>=2.8.2 in /Users/kimmandoo/.pyenv/versions/3.10.12/lib/python3.10/site-packages (from pandas) (2.9.0.post0)\n",
      "Requirement already satisfied: pytz>=2020.1 in /Users/kimmandoo/.pyenv/versions/3.10.12/lib/python3.10/site-packages (from pandas) (2025.2)\n",
      "Requirement already satisfied: tzdata>=2022.7 in /Users/kimmandoo/.pyenv/versions/3.10.12/lib/python3.10/site-packages (from pandas) (2025.2)\n",
      "Requirement already satisfied: scipy>=1.8.0 in /Users/kimmandoo/.pyenv/versions/3.10.12/lib/python3.10/site-packages (from scikit-learn) (1.15.3)\n",
      "Requirement already satisfied: joblib>=1.2.0 in /Users/kimmandoo/.pyenv/versions/3.10.12/lib/python3.10/site-packages (from scikit-learn) (1.5.1)\n",
      "Requirement already satisfied: threadpoolctl>=3.1.0 in /Users/kimmandoo/.pyenv/versions/3.10.12/lib/python3.10/site-packages (from scikit-learn) (3.6.0)\n",
      "Requirement already satisfied: six>=1.5 in /Users/kimmandoo/.pyenv/versions/3.10.12/lib/python3.10/site-packages (from python-dateutil>=2.8.2->pandas) (1.17.0)\n"
     ]
    }
   ],
   "source": [
    "# 라이브러리 설치\n",
    "!pip install --upgrade pip\n",
    "!pip install pandas scikit-learn xgboost"
   ]
  },
  {
   "cell_type": "code",
   "execution_count": null,
   "metadata": {},
   "outputs": [
    {
     "name": "stdout",
     "output_type": "stream",
     "text": [
      "\u001b[33mWarning:\u001b[0m libomp 20.1.7 is already installed and up-to-date.\n",
      "To reinstall 20.1.7, run:\n",
      "  brew reinstall libomp\n"
     ]
    }
   ],
   "source": [
    "# macOS에서 xgboost를 사용하기 위한 libomp 설치 명령어\n",
    "!brew install libomp"
   ]
  },
  {
   "cell_type": "code",
   "execution_count": null,
   "metadata": {},
   "outputs": [
    {
     "name": "stdout",
     "output_type": "stream",
     "text": [
      "/opt/homebrew/opt/libomp\n"
     ]
    }
   ],
   "source": [
    "# 설치된 libomp의 경로 확인\n",
    "!brew --prefix libomp"
   ]
  },
  {
   "cell_type": "code",
   "execution_count": null,
   "metadata": {},
   "outputs": [],
   "source": [
    "# .zshrc에 DYLD_LIBRARY_PATH를 설정\n",
    "libomp_path = \"/opt/homebrew/opt/libomp/lib\"\n",
    "\n",
    "username=\"\"\n",
    "with open(f'/Users/{username}/.zshrc', 'a') as f:\n",
    "    f.write(f'\\nexport DYLD_LIBRARY_PATH=\"{libomp_path}:$DYLD_LIBRARY_PATH\"\\n')"
   ]
  },
  {
   "cell_type": "code",
   "execution_count": null,
   "metadata": {},
   "outputs": [
    {
     "name": "stdout",
     "output_type": "stream",
     "text": [
      "\u001b[?25l\u001b[?7l\u001b[0m\u001b[32m\u001b[1m                    'c.\n",
      "                 ,xNMM.\n",
      "               .OMMMMo\n",
      "               OMMM0,\n",
      "     .;loddo:' loolloddol;.\n",
      "   cKMMMMMMMMMMNWMMMMMMMMMM0:\n",
      "\u001b[0m\u001b[33m\u001b[1m .KMMMMMMMMMMMMMMMMMMMMMMMWd.\n",
      " XMMMMMMMMMMMMMMMMMMMMMMMX.\n",
      "\u001b[0m\u001b[31m\u001b[1m;MMMMMMMMMMMMMMMMMMMMMMMM:\n",
      ":MMMMMMMMMMMMMMMMMMMMMMMM:\n",
      "\u001b[0m\u001b[31m\u001b[1m.MMMMMMMMMMMMMMMMMMMMMMMMX.\n",
      " kMMMMMMMMMMMMMMMMMMMMMMMMWd.\n",
      " \u001b[0m\u001b[35m\u001b[1m.XMMMMMMMMMMMMMMMMMMMMMMMMMMk\n",
      "  .XMMMMMMMMMMMMMMMMMMMMMMMMK.\n",
      "    \u001b[0m\u001b[34m\u001b[1mkMMMMMMMMMMMMMMMMMMMMMMd\n",
      "     ;KMMMMMMMWXXWMMMMMMMk.\n",
      "       .cooc,.    .,coo:.\u001b[0m\n",
      "\u001b[17A\u001b[9999999D\u001b[33C\u001b[0m\u001b[1m\u001b[32m\u001b[1mkimmandoo\u001b[0m@\u001b[32m\u001b[1mKIMMANDOOui-MacBookPro.local\u001b[0m \n",
      "\u001b[33C\u001b[0m--------------------------------------\u001b[0m \n",
      "\u001b[33C\u001b[0m\u001b[33m\u001b[1mOS\u001b[0m\u001b[0m:\u001b[0m macOS 15.5 24F74 arm64\u001b[0m \n",
      "\u001b[33C\u001b[0m\u001b[33m\u001b[1mHost\u001b[0m\u001b[0m:\u001b[0m MacBookPro18,1\u001b[0m \n",
      "\u001b[33C\u001b[0m\u001b[33m\u001b[1mKernel\u001b[0m\u001b[0m:\u001b[0m 24.5.0\u001b[0m \n",
      "\u001b[33C\u001b[0m\u001b[33m\u001b[1mUptime\u001b[0m\u001b[0m:\u001b[0m 8 days, 18 hours, 58 mins\u001b[0m \n",
      "\u001b[33C\u001b[0m\u001b[33m\u001b[1mPackages\u001b[0m\u001b[0m:\u001b[0m 3 (port), 94 (brew)\u001b[0m \n",
      "\u001b[33C\u001b[0m\u001b[33m\u001b[1mShell\u001b[0m\u001b[0m:\u001b[0m zsh 5.9\u001b[0m \n",
      "\u001b[33C\u001b[0m\u001b[33m\u001b[1mResolution\u001b[0m\u001b[0m:\u001b[0m 1728x1117, 1080x810\u001b[0m \n",
      "\u001b[33C\u001b[0m\u001b[33m\u001b[1mDE\u001b[0m\u001b[0m:\u001b[0m Aqua\u001b[0m \n",
      "\u001b[33C\u001b[0m\u001b[33m\u001b[1mWM\u001b[0m\u001b[0m:\u001b[0m Spectacle\u001b[0m \n",
      "\u001b[33C\u001b[0m\u001b[33m\u001b[1mTerminal\u001b[0m\u001b[0m:\u001b[0m python\u001b[0m \n",
      "\u001b[33C\u001b[0m\u001b[33m\u001b[1mCPU\u001b[0m\u001b[0m:\u001b[0m Apple M1 Pro\u001b[0m \n",
      "\u001b[33C\u001b[0m\u001b[33m\u001b[1mGPU\u001b[0m\u001b[0m:\u001b[0m Apple M1 Pro\u001b[0m \n",
      "\u001b[33C\u001b[0m\u001b[33m\u001b[1mMemory\u001b[0m\u001b[0m:\u001b[0m 3126MiB / 16384MiB\u001b[0m \n",
      "\n",
      "\u001b[33C\u001b[30m\u001b[40m   \u001b[31m\u001b[41m   \u001b[32m\u001b[42m   \u001b[33m\u001b[43m   \u001b[34m\u001b[44m   \u001b[35m\u001b[45m   \u001b[36m\u001b[46m   \u001b[37m\u001b[47m   \u001b[m\n",
      "\u001b[33C\u001b[38;5;8m\u001b[48;5;8m   \u001b[38;5;9m\u001b[48;5;9m   \u001b[38;5;10m\u001b[48;5;10m   \u001b[38;5;11m\u001b[48;5;11m   \u001b[38;5;12m\u001b[48;5;12m   \u001b[38;5;13m\u001b[48;5;13m   \u001b[38;5;14m\u001b[48;5;14m   \u001b[38;5;15m\u001b[48;5;15m   \u001b[m\n",
      "\n",
      "\n",
      "\u001b[?25h\u001b[?7h"
     ]
    }
   ],
   "source": [
    "# 환경변수 설정 적용\n",
    "!source ~/.zshrc"
   ]
  },
  {
   "cell_type": "code",
   "execution_count": null,
   "metadata": {},
   "outputs": [],
   "source": [
    "# 라이브러리 불러오기\n",
    "import pandas as pd\n",
    "\n",
    "from sklearn.model_selection import train_test_split\n",
    "from sklearn.feature_extraction.text import TfidfVectorizer\n",
    "from sklearn.pipeline import FeatureUnion, Pipeline\n",
    "from sklearn.preprocessing import FunctionTransformer\n",
    "from sklearn.metrics import roc_auc_score\n",
    "\n",
    "from xgboost import XGBClassifier # 베이스라인 코드에서는 XGBoost 모델로 분류"
   ]
  },
  {
   "cell_type": "markdown",
   "metadata": {},
   "source": [
    "# Data Load & Split"
   ]
  },
  {
   "cell_type": "code",
   "execution_count": null,
   "metadata": {},
   "outputs": [],
   "source": [
    "# train, test 데이터 불러오기\n",
    "train = pd.read_csv('./train.csv', encoding='utf-8-sig')\n",
    "test = pd.read_csv('./test.csv', encoding='utf-8-sig')"
   ]
  },
  {
   "cell_type": "code",
   "execution_count": null,
   "metadata": {},
   "outputs": [],
   "source": [
    "# 모델 학습을 위한 데이터 분리\n",
    "X = train[['title', 'full_text']] # 모델 학습 입력 컬럼 (title, full_text)\n",
    "y = train['generated']            # 정답 라벨 컬럼 (generated / AI: 1, 사람: 0)\n",
    "X_train, X_val, y_train, y_val = train_test_split(X, y, stratify=y, test_size=0.2, random_state=42)"
   ]
  },
  {
   "cell_type": "markdown",
   "metadata": {},
   "source": [
    "# TF-IDF Vectorization"
   ]
  },
  {
   "cell_type": "code",
   "execution_count": null,
   "metadata": {},
   "outputs": [],
   "source": [
    "# TF-IDF 벡터화\n",
    "get_title = FunctionTransformer(lambda x: x['title'], validate=False)      # title 컬럼만 추출하는 용도\n",
    "get_text = FunctionTransformer(lambda x: x['full_text'], validate=False)   # full_text 컬럼만 추출하는 용도\n",
    "\n",
    "# TF-IDF 벡터라이저 구성\n",
    "# title, full_text 컬럼 별도의 TF-IDF 벡터라이저 구성 후 병합\n",
    "vectorizer = FeatureUnion([\n",
    "    ('title', Pipeline([('selector', get_title),\n",
    "                        ('tfidf', TfidfVectorizer(ngram_range=(1,2), max_features=3000))])),\n",
    "    ('full_text', Pipeline([('selector', get_text), \n",
    "                            ('tfidf', TfidfVectorizer(ngram_range=(1,2), max_features=10000))])),\n",
    "]) \n",
    "\n",
    "# 피처 변환\n",
    "X_train_vec = vectorizer.fit_transform(X_train) # X_train(title, full_text)에 대해 벡터라이저 학습 후 벡터로 변환\n",
    "X_val_vec = vectorizer.transform(X_val)         # X_val(title, full_text)에 대해 벡터라이저 학습 후 벡터로 변환"
   ]
  },
  {
   "cell_type": "markdown",
   "metadata": {},
   "source": [
    "# Train"
   ]
  },
  {
   "cell_type": "code",
   "execution_count": null,
   "metadata": {},
   "outputs": [
    {
     "name": "stdout",
     "output_type": "stream",
     "text": [
      "Validation AUC: 0.9113\n"
     ]
    }
   ],
   "source": [
    "# 모델 정의\n",
    "xgb = XGBClassifier(random_state=42)            # XGBoost 기반 이진 분류기 정의\n",
    "xgb.fit(X_train_vec, y_train)                   # 모델 학습\n",
    "\n",
    "val_probs = xgb.predict_proba(X_val_vec)[:, 1]  # 검증 데이터에 대한 클래스별 확률 예측 (AI로 판단될 확률만 가져옴)\n",
    "auc = roc_auc_score(y_val, val_probs)           # AUC 계산 (1에 가까울수록 좋음, 0.5면 랜덤 수준)\n",
    "print(f\"Validation AUC: {auc:.4f}\")             # AUC 소수점 넷째자리까지 출력"
   ]
  },
  {
   "cell_type": "markdown",
   "metadata": {},
   "source": [
    "# Inference"
   ]
  },
  {
   "cell_type": "code",
   "execution_count": null,
   "metadata": {},
   "outputs": [],
   "source": [
    "# test용으로 'paragraph_text'를 'full_text'에 맞게 재명명\n",
    "test = test.rename(columns={'paragraph_text': 'full_text'}) # train과 같은 구조여야 같은 벡터라이저 통과 가능\n",
    "X_test = test[['title', 'full_text']]                       # 모델 입력으로 사용될 컬럼만 추출, train과 동일한 형태\n",
    "\n",
    "X_test_vec = vectorizer.transform(X_test)                   # 학습 때 사용한 벡터라이저를 사용해 X_test를 벡터로 변환\n",
    "\n",
    "probs = xgb.predict_proba(X_test_vec)[:, 1]                 # 테스트 데이터에 대해 클래스별 확률 예측 (AI로 판단될 확률만 가져옴)"
   ]
  },
  {
   "cell_type": "markdown",
   "metadata": {},
   "source": [
    "# Submission"
   ]
  },
  {
   "cell_type": "code",
   "execution_count": null,
   "metadata": {},
   "outputs": [],
   "source": [
    "# 결과 저장하기\n",
    "sample_submission = pd.read_csv('./sample_submission.csv', encoding='utf-8-sig') # 기존에 제공된 제출 양식 파일 불러오기\n",
    "sample_submission['generated'] = probs                                           # generated 컬럼에 모델이 예측한 AI일 확률값(probs)을 채움\n",
    "\n",
    "sample_submission.to_csv(f'./baseline_submission.csv', index=False)              # 최종 제출 파일로 저장"
   ]
  }
 ],
 "metadata": {
  "kernelspec": {
   "display_name": "Python 3",
   "language": "python",
   "name": "python3"
  },
  "language_info": {
   "codemirror_mode": {
    "name": "ipython",
    "version": 3
   },
   "file_extension": ".py",
   "mimetype": "text/x-python",
   "name": "python",
   "nbconvert_exporter": "python",
   "pygments_lexer": "ipython3",
   "version": "3.10.12"
  }
 },
 "nbformat": 4,
 "nbformat_minor": 2
}
